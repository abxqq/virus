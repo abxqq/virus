{
 "cells": [
  {
   "cell_type": "code",
   "execution_count": 1,
   "id": "c8d5add9",
   "metadata": {},
   "outputs": [],
   "source": [
    "#Linear Regression\n",
    "import pandas as pd\n",
    "import matplotlib.pyplot as plt"
   ]
  },
  {
   "cell_type": "code",
   "execution_count": 2,
   "id": "05c2c91a",
   "metadata": {},
   "outputs": [
    {
     "data": {
      "text/html": [
       "<div>\n",
       "<style scoped>\n",
       "    .dataframe tbody tr th:only-of-type {\n",
       "        vertical-align: middle;\n",
       "    }\n",
       "\n",
       "    .dataframe tbody tr th {\n",
       "        vertical-align: top;\n",
       "    }\n",
       "\n",
       "    .dataframe thead th {\n",
       "        text-align: right;\n",
       "    }\n",
       "</style>\n",
       "<table border=\"1\" class=\"dataframe\">\n",
       "  <thead>\n",
       "    <tr style=\"text-align: right;\">\n",
       "      <th></th>\n",
       "      <th>x</th>\n",
       "      <th>y</th>\n",
       "    </tr>\n",
       "  </thead>\n",
       "  <tbody>\n",
       "    <tr>\n",
       "      <th>0</th>\n",
       "      <td>2.0</td>\n",
       "      <td>45</td>\n",
       "    </tr>\n",
       "    <tr>\n",
       "      <th>1</th>\n",
       "      <td>4.0</td>\n",
       "      <td>23</td>\n",
       "    </tr>\n",
       "    <tr>\n",
       "      <th>2</th>\n",
       "      <td>3.5</td>\n",
       "      <td>67</td>\n",
       "    </tr>\n",
       "    <tr>\n",
       "      <th>3</th>\n",
       "      <td>2.0</td>\n",
       "      <td>70</td>\n",
       "    </tr>\n",
       "    <tr>\n",
       "      <th>4</th>\n",
       "      <td>1.0</td>\n",
       "      <td>20</td>\n",
       "    </tr>\n",
       "    <tr>\n",
       "      <th>5</th>\n",
       "      <td>2.5</td>\n",
       "      <td>54</td>\n",
       "    </tr>\n",
       "  </tbody>\n",
       "</table>\n",
       "</div>"
      ],
      "text/plain": [
       "     x   y\n",
       "0  2.0  45\n",
       "1  4.0  23\n",
       "2  3.5  67\n",
       "3  2.0  70\n",
       "4  1.0  20\n",
       "5  2.5  54"
      ]
     },
     "execution_count": 2,
     "metadata": {},
     "output_type": "execute_result"
    }
   ],
   "source": [
    "df=pd.read_csv(\"/home/dslab/Desktop/dataaset/lr.csv\")\n",
    "df"
   ]
  },
  {
   "cell_type": "code",
   "execution_count": 4,
   "id": "fac16b61",
   "metadata": {},
   "outputs": [
    {
     "data": {
      "image/png": "[encoded data removed]",
      "text/plain": [
       "<Figure size 432x288 with 1 Axes>"
      ]
     },
     "metadata": {
      "needs_background": "light"
     },
     "output_type": "display_data"
    }
   ],
   "source": [
    "df.plot(x=\"x\", y=\"y\", style=\"o\")\n",
    "plt.show()"
   ]
  },
  {
   "cell_type": "code",
   "execution_count": 5,
   "id": "d33d4ab4",
   "metadata": {},
   "outputs": [
    {
     "name": "stdout",
     "output_type": "stream",
     "text": [
      "2.5 46.5\n"
     ]
    }
   ],
   "source": [
    "x_mean=df[\"x\"].mean()\n",
    "y_mean=df[\"y\"].mean()\n",
    "print(x_mean,y_mean)"
   ]
  },
  {
   "cell_type": "code",
   "execution_count": 6,
   "id": "650d7b6d",
   "metadata": {},
   "outputs": [
    {
     "data": {
      "text/html": [
       "<div>\n",
       "<style scoped>\n",
       "    .dataframe tbody tr th:only-of-type {\n",
       "        vertical-align: middle;\n",
       "    }\n",
       "\n",
       "    .dataframe tbody tr th {\n",
       "        vertical-align: top;\n",
       "    }\n",
       "\n",
       "    .dataframe thead th {\n",
       "        text-align: right;\n",
       "    }\n",
       "</style>\n",
       "<table border=\"1\" class=\"dataframe\">\n",
       "  <thead>\n",
       "    <tr style=\"text-align: right;\">\n",
       "      <th></th>\n",
       "      <th>x</th>\n",
       "      <th>y</th>\n",
       "      <th>x*y</th>\n",
       "      <th>x^2</th>\n",
       "      <th>y^2</th>\n",
       "    </tr>\n",
       "  </thead>\n",
       "  <tbody>\n",
       "    <tr>\n",
       "      <th>0</th>\n",
       "      <td>-0.5</td>\n",
       "      <td>-1.5</td>\n",
       "      <td>0.75</td>\n",
       "      <td>0.25</td>\n",
       "      <td>2.25</td>\n",
       "    </tr>\n",
       "    <tr>\n",
       "      <th>1</th>\n",
       "      <td>1.5</td>\n",
       "      <td>-23.5</td>\n",
       "      <td>-35.25</td>\n",
       "      <td>2.25</td>\n",
       "      <td>552.25</td>\n",
       "    </tr>\n",
       "    <tr>\n",
       "      <th>2</th>\n",
       "      <td>1.0</td>\n",
       "      <td>20.5</td>\n",
       "      <td>20.50</td>\n",
       "      <td>1.00</td>\n",
       "      <td>420.25</td>\n",
       "    </tr>\n",
       "    <tr>\n",
       "      <th>3</th>\n",
       "      <td>-0.5</td>\n",
       "      <td>23.5</td>\n",
       "      <td>-11.75</td>\n",
       "      <td>0.25</td>\n",
       "      <td>552.25</td>\n",
       "    </tr>\n",
       "    <tr>\n",
       "      <th>4</th>\n",
       "      <td>-1.5</td>\n",
       "      <td>-26.5</td>\n",
       "      <td>39.75</td>\n",
       "      <td>2.25</td>\n",
       "      <td>702.25</td>\n",
       "    </tr>\n",
       "    <tr>\n",
       "      <th>5</th>\n",
       "      <td>0.0</td>\n",
       "      <td>7.5</td>\n",
       "      <td>0.00</td>\n",
       "      <td>0.00</td>\n",
       "      <td>56.25</td>\n",
       "    </tr>\n",
       "  </tbody>\n",
       "</table>\n",
       "</div>"
      ],
      "text/plain": [
       "     x     y    x*y   x^2     y^2\n",
       "0 -0.5  -1.5   0.75  0.25    2.25\n",
       "1  1.5 -23.5 -35.25  2.25  552.25\n",
       "2  1.0  20.5  20.50  1.00  420.25\n",
       "3 -0.5  23.5 -11.75  0.25  552.25\n",
       "4 -1.5 -26.5  39.75  2.25  702.25\n",
       "5  0.0   7.5   0.00  0.00   56.25"
      ]
     },
     "execution_count": 6,
     "metadata": {},
     "output_type": "execute_result"
    }
   ],
   "source": [
    "df[\"x\"]=df[\"x\"]-x_mean\n",
    "df[\"y\"]=df[\"y\"]-y_mean\n",
    "df[\"x*y\"]=df[\"x\"]*df[\"y\"]\n",
    "df[\"x^2\"]=df[\"x\"]**2\n",
    "df[\"y^2\"]=df[\"y\"]**2\n",
    "df"
   ]
  },
  {
   "cell_type": "code",
   "execution_count": 7,
   "id": "aa5352d9",
   "metadata": {},
   "outputs": [
    {
     "name": "stdout",
     "output_type": "stream",
     "text": [
      "14.0 6.0 2285.5\n"
     ]
    }
   ],
   "source": [
    "sum_x_y=df[\"x*y\"].sum()\n",
    "sum_x_square=df[\"x^2\"].sum()\n",
    "sum_y_square=df[\"y^2\"].sum()\n",
    "print(sum_x_y,sum_x_square,sum_y_square)"
   ]
  },
  {
   "cell_type": "code",
   "execution_count": 8,
   "id": "5bc84ad0",
   "metadata": {},
   "outputs": [
    {
     "data": {
      "text/plain": [
       "0.1195533631314435"
      ]
     },
     "execution_count": 8,
     "metadata": {},
     "output_type": "execute_result"
    }
   ],
   "source": [
    "correlation=sum_x_y/(sum_x_square*sum_y_square)**0.5\n",
    "correlation"
   ]
  },
  {
   "cell_type": "code",
   "execution_count": 9,
   "id": "0d1aecad",
   "metadata": {},
   "outputs": [],
   "source": [
    "def getmean(numbers):\n",
    "    if len(numbers) == 0:\n",
    "        return None\n",
    "    else:\n",
    "        current_sum=0\n",
    "        for i in numbers:\n",
    "            current_sum += i\n",
    "            current_avg = current_sum/len(numbers)\n",
    "        return current_avg"
   ]
  },
  {
   "cell_type": "code",
   "execution_count": 12,
   "id": "807af9f8",
   "metadata": {},
   "outputs": [],
   "source": [
    "def getsd(numbers):\n",
    "    if len(numbers)==0:\n",
    "        return 0\n",
    "    else:\n",
    "        mean=getmean(numbers)\n",
    "        sd=0\n",
    "        for i in numbers:\n",
    "            sd += (i-mean)**2\n",
    "        return (sd/len(numbers))**0.5"
   ]
  },
  {
   "cell_type": "code",
   "execution_count": 13,
   "id": "7d353b20",
   "metadata": {},
   "outputs": [
    {
     "name": "stdout",
     "output_type": "stream",
     "text": [
      "1.0 19.517086531208154\n"
     ]
    }
   ],
   "source": [
    "sd_x=getsd(df[\"x\"].tolist())\n",
    "sd_y=getsd(df[\"y\"].tolist())\n",
    "print(sd_x,sd_y)"
   ]
  },
  {
   "cell_type": "code",
   "execution_count": 14,
   "id": "7d1ca350",
   "metadata": {},
   "outputs": [
    {
     "data": {
      "text/plain": [
       "0.0061255742725880545"
      ]
     },
     "execution_count": 14,
     "metadata": {},
     "output_type": "execute_result"
    }
   ],
   "source": [
    "m=correlation*(sd_x/sd_y)\n",
    "m"
   ]
  },
  {
   "cell_type": "code",
   "execution_count": 16,
   "id": "24a335c6",
   "metadata": {},
   "outputs": [
    {
     "data": {
      "text/plain": [
       "0.0"
      ]
     },
     "execution_count": 16,
     "metadata": {},
     "output_type": "execute_result"
    }
   ],
   "source": [
    "c=df[\"y\"].mean()-m*df[\"x\"].mean()\n",
    "c"
   ]
  },
  {
   "cell_type": "code",
   "execution_count": 17,
   "id": "9b455005",
   "metadata": {},
   "outputs": [
    {
     "data": {
      "text/html": [
       "<div>\n",
       "<style scoped>\n",
       "    .dataframe tbody tr th:only-of-type {\n",
       "        vertical-align: middle;\n",
       "    }\n",
       "\n",
       "    .dataframe tbody tr th {\n",
       "        vertical-align: top;\n",
       "    }\n",
       "\n",
       "    .dataframe thead th {\n",
       "        text-align: right;\n",
       "    }\n",
       "</style>\n",
       "<table border=\"1\" class=\"dataframe\">\n",
       "  <thead>\n",
       "    <tr style=\"text-align: right;\">\n",
       "      <th></th>\n",
       "      <th>x</th>\n",
       "      <th>y</th>\n",
       "      <th>x*y</th>\n",
       "      <th>x^2</th>\n",
       "      <th>y^2</th>\n",
       "      <th>y_prd</th>\n",
       "    </tr>\n",
       "  </thead>\n",
       "  <tbody>\n",
       "    <tr>\n",
       "      <th>0</th>\n",
       "      <td>-0.5</td>\n",
       "      <td>-1.5</td>\n",
       "      <td>0.75</td>\n",
       "      <td>0.25</td>\n",
       "      <td>2.25</td>\n",
       "      <td>-0.003063</td>\n",
       "    </tr>\n",
       "    <tr>\n",
       "      <th>1</th>\n",
       "      <td>1.5</td>\n",
       "      <td>-23.5</td>\n",
       "      <td>-35.25</td>\n",
       "      <td>2.25</td>\n",
       "      <td>552.25</td>\n",
       "      <td>0.009188</td>\n",
       "    </tr>\n",
       "    <tr>\n",
       "      <th>2</th>\n",
       "      <td>1.0</td>\n",
       "      <td>20.5</td>\n",
       "      <td>20.50</td>\n",
       "      <td>1.00</td>\n",
       "      <td>420.25</td>\n",
       "      <td>0.006126</td>\n",
       "    </tr>\n",
       "    <tr>\n",
       "      <th>3</th>\n",
       "      <td>-0.5</td>\n",
       "      <td>23.5</td>\n",
       "      <td>-11.75</td>\n",
       "      <td>0.25</td>\n",
       "      <td>552.25</td>\n",
       "      <td>-0.003063</td>\n",
       "    </tr>\n",
       "    <tr>\n",
       "      <th>4</th>\n",
       "      <td>-1.5</td>\n",
       "      <td>-26.5</td>\n",
       "      <td>39.75</td>\n",
       "      <td>2.25</td>\n",
       "      <td>702.25</td>\n",
       "      <td>-0.009188</td>\n",
       "    </tr>\n",
       "    <tr>\n",
       "      <th>5</th>\n",
       "      <td>0.0</td>\n",
       "      <td>7.5</td>\n",
       "      <td>0.00</td>\n",
       "      <td>0.00</td>\n",
       "      <td>56.25</td>\n",
       "      <td>0.000000</td>\n",
       "    </tr>\n",
       "  </tbody>\n",
       "</table>\n",
       "</div>"
      ],
      "text/plain": [
       "     x     y    x*y   x^2     y^2     y_prd\n",
       "0 -0.5  -1.5   0.75  0.25    2.25 -0.003063\n",
       "1  1.5 -23.5 -35.25  2.25  552.25  0.009188\n",
       "2  1.0  20.5  20.50  1.00  420.25  0.006126\n",
       "3 -0.5  23.5 -11.75  0.25  552.25 -0.003063\n",
       "4 -1.5 -26.5  39.75  2.25  702.25 -0.009188\n",
       "5  0.0   7.5   0.00  0.00   56.25  0.000000"
      ]
     },
     "execution_count": 17,
     "metadata": {},
     "output_type": "execute_result"
    }
   ],
   "source": [
    "df[\"y_prd\"]=m*df[\"x\"]+c\n",
    "df"
   ]
  },
  {
   "cell_type": "code",
   "execution_count": 18,
   "id": "2b621bf4",
   "metadata": {},
   "outputs": [
    {
     "data": {
      "image/png": "[encoded data removed]",
      "text/plain": [
       "<Figure size 432x288 with 1 Axes>"
      ]
     },
     "metadata": {
      "needs_background": "light"
     },
     "output_type": "display_data"
    }
   ],
   "source": [
    "pt1=plt.scatter(df[\"x\"],df[\"y\"])\n",
    "pt2=plt.scatter(df[\"x\"],df[\"y_prd\"])\n",
    "plt.show()"
   ]
  },
  {
   "cell_type": "code",
   "execution_count": null,
   "id": "e2a5b0a6",
   "metadata": {},
   "outputs": [],
   "source": []
  }
 ],
 "metadata": {
  "kernelspec": {
   "display_name": "Python 3 (ipykernel)",
   "language": "python",
   "name": "python3"
  },
  "language_info": {
   "codemirror_mode": {
    "name": "ipython",
    "version": 3
   },
   "file_extension": ".py",
   "mimetype": "text/x-python",
   "name": "python",
   "nbconvert_exporter": "python",
   "pygments_lexer": "ipython3",
   "version": "3.10.6"
  }
 },
 "nbformat": 4,
 "nbformat_minor": 5
}
